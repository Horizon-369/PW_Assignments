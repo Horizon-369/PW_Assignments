{
 "cells": [
  {
   "cell_type": "markdown",
   "id": "250be808",
   "metadata": {},
   "source": [
    "# Question No .1:\n",
    "\n",
    "Which function is used to open a file? What are the different modes of opening a file? Explain each mode of file opening.\n",
    "\n",
    "# Answer:\n",
    "\n",
    "In Python, we use the open() method to open files.\n",
    "\n",
    "The dfferent modes of opering a file are:\n",
    "\n",
    "1. r: Open a file for reading.\n",
    "2. w : Open a file for writing. Creates a new file if it does not exist or truncates the file if exists.\n",
    "3. x : Open a file for exclusive creation. If the file already exists, the operation fails.\n",
    "4. a : Open a file for appending at the end of the file without truncating it. Creates a new file if it does not exist.\n",
    "5. t : Open in text mode.\n",
    "6. b : Open in binary mode.\n",
    "7. plus(+) : Open a file for updating (reading and writing)"
   ]
  },
  {
   "cell_type": "markdown",
   "id": "f7fe252c",
   "metadata": {},
   "source": [
    "# Question No. 2:\n",
    "Why close() function is used? Why is it important to close a file?\n",
    "\n",
    "# Answer:\n",
    "When we are done with the opened file, we need to close it. If it is not closed the resources that are tied with the file are not freed.\n",
    "\n",
    "In Python, the close() method is used to close a file. When you're done reading from or writing to a file, you need to close it so that other programs can access it and so that your program frees up the memory it used for the file."
   ]
  },
  {
   "cell_type": "markdown",
   "id": "8afa561b",
   "metadata": {},
   "source": [
    "# Question No. 3:\n",
    "Write a Python progrm to create a text file. Write 'I want to becomae a Data Scientist' in that file. Then close the file. Open this file and read the content of the file.\n",
    "\n",
    "# Answer:"
   ]
  },
  {
   "cell_type": "code",
   "execution_count": 2,
   "id": "66aa24fa",
   "metadata": {},
   "outputs": [],
   "source": [
    "# open the file in write mode (creates the file)\n",
    "with open('newfile.txt', 'w') as new_file:\n",
    "    #write contents in the file\n",
    "    new_file.write('I want to become a Data Scientist')\n",
    "\n",
    "#close the file\n",
    "new_file.close()"
   ]
  },
  {
   "cell_type": "code",
   "execution_count": 3,
   "id": "2ba37821",
   "metadata": {},
   "outputs": [
    {
     "name": "stdout",
     "output_type": "stream",
     "text": [
      "I want to become a Data Scientist\n"
     ]
    }
   ],
   "source": [
    "# open the file in read mode\n",
    "with open('newfile.txt', 'r') as new_file:\n",
    "    #read contents of the file\n",
    "    read_content = new_file.read()\n",
    "    #display contents of the file\n",
    "    print(read_content)\n",
    "    \n",
    "#close the file\n",
    "new_file.close()"
   ]
  },
  {
   "cell_type": "markdown",
   "id": "47a9fadd",
   "metadata": {},
   "source": [
    "# Question No. 4:\n",
    "Explain the following with Python code: read(), readline() and readlines().\n",
    "\n",
    "# Answer:\n",
    "To understand the functionality of read(), readline() and readlines() properly, let's first create a .txt file and write a few lines of text in it."
   ]
  },
  {
   "cell_type": "code",
   "execution_count": 4,
   "id": "3e39d10d",
   "metadata": {},
   "outputs": [],
   "source": [
    "with open('example_file.txt', 'w') as file:\n",
    "    file.write('This is the first line in the file\\nThis is second line in the file\\nThis is last line in the file\\n')\n",
    "    \n",
    "file.close()"
   ]
  },
  {
   "cell_type": "markdown",
   "id": "1bf48c3b",
   "metadata": {},
   "source": [
    "So we created .txt file and wrote 3 lines in it.\n",
    "\n",
    "the read() method is used to read the entire contents of a file as a single string. For example:"
   ]
  },
  {
   "cell_type": "code",
   "execution_count": 5,
   "id": "961676b1",
   "metadata": {},
   "outputs": [
    {
     "name": "stdout",
     "output_type": "stream",
     "text": [
      "This is the first line in the file\n",
      "This is second line in the file\n",
      "This is last line in the file\n",
      "\n"
     ]
    }
   ],
   "source": [
    "with open('example_file.txt','r') as file:\n",
    "    contents = file.read()\n",
    "    print(contents)\n",
    "\n",
    "file.close()"
   ]
  },
  {
   "cell_type": "markdown",
   "id": "bdf89ea1",
   "metadata": {},
   "source": [
    "readline() method is used to read a single line form the file. For example:"
   ]
  },
  {
   "cell_type": "code",
   "execution_count": 6,
   "id": "c1b10814",
   "metadata": {},
   "outputs": [
    {
     "name": "stdout",
     "output_type": "stream",
     "text": [
      "This is the first line in the file\n",
      "\n"
     ]
    }
   ],
   "source": [
    "with open('example_file.txt', 'r') as file:\n",
    "    line = file.readline()\n",
    "    print(line)\n",
    "\n",
    "file.close()"
   ]
  },
  {
   "cell_type": "markdown",
   "id": "da30e953",
   "metadata": {},
   "source": [
    "readlines() method is used to read all the lines of a file as a list of strings, where each stirng is a line of the file. For example:"
   ]
  },
  {
   "cell_type": "code",
   "execution_count": 7,
   "id": "cb706115",
   "metadata": {},
   "outputs": [
    {
     "name": "stdout",
     "output_type": "stream",
     "text": [
      "['This is the first line in the file\\n', 'This is second line in the file\\n', 'This is last line in the file\\n']\n"
     ]
    }
   ],
   "source": [
    "with open('example_file.txt', 'r') as file:\n",
    "    lines = file.readlines()\n",
    "    print(lines)\n",
    "    \n",
    "file.close()"
   ]
  },
  {
   "cell_type": "markdown",
   "id": "5ce78c27",
   "metadata": {},
   "source": [
    "# Question No. 5:\n",
    "Explain why with statement is used with open(). What is the advantage of using with statement and open() together?\n",
    "\n",
    "# Answer:\n",
    "The with statement is used with the open() function in Python to ensure that the file is properly closed after it has been used.\n",
    "The advantage of using the with statement is that it automatically takes care of closing the file for you, even if an error occurs during the execution of the block of code.\n",
    "\n",
    "When you use the with statement, Python creates a context in which the file is open and makes it available within the indented block following the with statement. When the block of code is executed, the file is automatically closed, even if an exception is raised. This helps prevent resource leaks and reduces the risk of data corruption.\n",
    "\n",
    "# Question No. 6:\n",
    "Explain the write() and writelines() functions. Give a suitable example.\n",
    "\n",
    "# Answer:\n",
    "The write() and writelines() functions in Python are used to write text data to a file.\n",
    "\n",
    "The write() function is used to write a string to a file. It takes a single string argument and returns the number of characters written to the file. For example:# "
   ]
  },
  {
   "cell_type": "code",
   "execution_count": 8,
   "id": "0a29e61c",
   "metadata": {},
   "outputs": [],
   "source": [
    "with open('example_file.txt', 'w') as file:\n",
    "    file.write('This is the line i wrote to the file using write function\\n')\n",
    "\n",
    "file.close()"
   ]
  },
  {
   "cell_type": "markdown",
   "id": "87fd43c2",
   "metadata": {},
   "source": [
    "The writelines() function is used to write a list of strings to a file. It takes a list of strings as an argument and writes each string to a separate line in the file. For example:\n",
    "\n"
   ]
  },
  {
   "cell_type": "code",
   "execution_count": 9,
   "id": "90092dd4",
   "metadata": {},
   "outputs": [],
   "source": [
    "lines = ['Line 1\\n','Line 2\\n', 'Line 3\\n']\n",
    "\n",
    "with open('example_file.txt', 'a') as file:\n",
    "    file.writelines(lines)\n",
    "    \n",
    "file.close()"
   ]
  },
  {
   "cell_type": "markdown",
   "id": "583e0650",
   "metadata": {},
   "source": [
    "Now lets read the file contents for verification"
   ]
  },
  {
   "cell_type": "code",
   "execution_count": 11,
   "id": "707d027b",
   "metadata": {},
   "outputs": [
    {
     "name": "stdout",
     "output_type": "stream",
     "text": [
      "This is the line i wrote to the file using write function\n",
      "Line 1\n",
      "Line 2\n",
      "Line 3\n",
      "\n"
     ]
    }
   ],
   "source": [
    "with open('example_file.txt', 'r') as file:\n",
    "    contents = file.read()\n",
    "    print(contents)\n",
    "file.close()"
   ]
  },
  {
   "cell_type": "code",
   "execution_count": null,
   "id": "a6387ed1",
   "metadata": {},
   "outputs": [],
   "source": []
  }
 ],
 "metadata": {
  "kernelspec": {
   "display_name": "Python 3 (ipykernel)",
   "language": "python",
   "name": "python3"
  },
  "language_info": {
   "codemirror_mode": {
    "name": "ipython",
    "version": 3
   },
   "file_extension": ".py",
   "mimetype": "text/x-python",
   "name": "python",
   "nbconvert_exporter": "python",
   "pygments_lexer": "ipython3",
   "version": "3.9.12"
  }
 },
 "nbformat": 4,
 "nbformat_minor": 5
}
