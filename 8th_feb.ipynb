{
  "nbformat": 4,
  "nbformat_minor": 0,
  "metadata": {
    "colab": {
      "provenance": []
    },
    "kernelspec": {
      "name": "python3",
      "display_name": "Python 3"
    },
    "language_info": {
      "name": "python"
    }
  },
  "cells": [
    {
      "cell_type": "markdown",
      "source": [
        "#8th Feb"
      ],
      "metadata": {
        "id": "J5nVsmPYUQ1v"
      }
    },
    {
      "cell_type": "code",
      "source": [
        "#solution1\n",
        "\"\"\"Abstraction in object-oriented programming (OOP) refers to the process of hiding complex implementation details and exposing only relevant information to the user.\n",
        "This helps in reducing the complexity of a system and improving its readability and maintainability.\"\"\"\n",
        "from abc import ABC, abstractmethod\n",
        "\n",
        "class Vehicle(ABC):\n",
        "    def __init__(self, make, model, wheels):\n",
        "        self.make = make\n",
        "        self.model = model\n",
        "        self.wheels = wheels\n",
        "\n",
        "    @abstractmethod\n",
        "    def start(self):\n",
        "        pass\n",
        "\n",
        "    @abstractmethod\n",
        "    def stop(self):\n",
        "        pass\n",
        "\n",
        "class Car(Vehicle):\n",
        "    def start(self):\n",
        "        print(\"Starting the car engine\")\n",
        "\n",
        "    def stop(self):\n",
        "        print(\"Stopping the car engine\")\n",
        "\n",
        "c = Car(\"Tesla\", \"Model 3\", 4)\n",
        "c.start()\n",
        "c.stop()"
      ],
      "metadata": {
        "colab": {
          "base_uri": "https://localhost:8080/"
        },
        "id": "uH0WseE5UUvY",
        "outputId": "9117abef-1b8d-4a6d-a553-d37a7396b7a4"
      },
      "execution_count": 1,
      "outputs": [
        {
          "output_type": "stream",
          "name": "stdout",
          "text": [
            "Starting the car engine\n",
            "Stopping the car engine\n"
          ]
        }
      ]
    },
    {
      "cell_type": "code",
      "source": [
        "#solution 2\n",
        "'''Abstraction and Encapsulation are two fundamental concepts in Object-Oriented Programming (OOP) that help in organizing and managing code. While both concepts are related and often used together, they have different purposes.\n",
        "\n",
        "Abstraction refers to the process of hiding complex implementation details and exposing only relevant information to the user. The goal of abstraction is to reduce the complexity of a system and make it easier to understand and use.\n",
        "\n",
        "Encapsulation refers to the idea of wrapping data and behavior within a single unit or object. Encapsulation helps to protect the internal state of an object from external modification and unwanted access.'''\n",
        "\n",
        "class BankAccount:\n",
        "    def __init__(self, account_number, balance):\n",
        "        self.__account_number = account_number\n",
        "        self.__balance = balance\n",
        "\n",
        "    def get_balance(self):\n",
        "        return self.__balance\n",
        "\n",
        "    def deposit(self, amount):\n",
        "        self.__balance += amount\n",
        "\n",
        "    def withdraw(self, amount):\n",
        "        if self.__balance >= amount:\n",
        "            self.__balance -= amount\n",
        "            return True\n",
        "        else:\n",
        "            return False\n",
        "\n",
        "# Abstraction: The user does not need to know how the deposit and withdraw methods work internally. They just need to know what they do.\n",
        "\n",
        "# Encapsulation: The internal state of the BankAccount object is protected from external modification. The user can only access the balance through the get_balance method and cannot directly modify the balance or the account number.\n",
        "\n",
        "account = BankAccount(\"1234567890\", 1000)\n",
        "print(\"Current balance:\", account.get_balance())\n",
        "account.deposit(500)\n",
        "print(\"New balance:\", account.get_balance())"
      ],
      "metadata": {
        "colab": {
          "base_uri": "https://localhost:8080/"
        },
        "id": "D5m5nawlUZt1",
        "outputId": "0a3deaa6-fcb5-4456-dbd9-b9d7271d2933"
      },
      "execution_count": 2,
      "outputs": [
        {
          "output_type": "stream",
          "name": "stdout",
          "text": [
            "Current balance: 1000\n",
            "New balance: 1500\n"
          ]
        }
      ]
    },
    {
      "cell_type": "code",
      "source": [
        "#solution3\n",
        "'''The abc (Abstract Base Class) module in Python is part of the standard library and provides a way to define abstract base classes in Python. \n",
        "An abstract base class is a class that cannot be instantiated and is meant to be used as a base class for one or more concrete (i.e., non-abstract) classes.\n",
        "\n",
        "The abc module is used to enforce abstract methods, which are methods that must be overridden by concrete subclasses.\n",
        "If a concrete subclass does not implement an abstract method, a TypeError is raised. This helps in ensuring that a certain interface is implemented by all concrete subclasses,\n",
        "making it easier to write code that can work with objects of different types, without having to check the type of the object at runtime.'''\n",
        "\n",
        "from abc import ABC, abstractmethod\n",
        "\n",
        "class Shape(ABC):\n",
        "    @abstractmethod\n",
        "    def area(self):\n",
        "        pass\n",
        "\n",
        "class Circle(Shape):\n",
        "    def __init__(self, radius):\n",
        "        self.radius = radius\n",
        "\n",
        "    def area(self):\n",
        "        return 3.14 * self.radius * self.radius\n",
        "\n",
        "s = Shape() # This will raise TypeError: Can't instantiate abstract class Shape with abstract methods area\n",
        "c = Circle(5)\n",
        "print(\"Area of circle:\", c.area())"
      ],
      "metadata": {
        "colab": {
          "base_uri": "https://localhost:8080/",
          "height": 241
        },
        "id": "mbgS0apBUfwQ",
        "outputId": "55a684c8-cc83-468d-f25f-efdfa0140839"
      },
      "execution_count": 3,
      "outputs": [
        {
          "output_type": "error",
          "ename": "TypeError",
          "evalue": "ignored",
          "traceback": [
            "\u001b[0;31m---------------------------------------------------------------------------\u001b[0m",
            "\u001b[0;31mTypeError\u001b[0m                                 Traceback (most recent call last)",
            "\u001b[0;32m<ipython-input-3-d350be08b680>\u001b[0m in \u001b[0;36m<module>\u001b[0;34m\u001b[0m\n\u001b[1;32m     21\u001b[0m         \u001b[0;32mreturn\u001b[0m \u001b[0;36m3.14\u001b[0m \u001b[0;34m*\u001b[0m \u001b[0mself\u001b[0m\u001b[0;34m.\u001b[0m\u001b[0mradius\u001b[0m \u001b[0;34m*\u001b[0m \u001b[0mself\u001b[0m\u001b[0;34m.\u001b[0m\u001b[0mradius\u001b[0m\u001b[0;34m\u001b[0m\u001b[0;34m\u001b[0m\u001b[0m\n\u001b[1;32m     22\u001b[0m \u001b[0;34m\u001b[0m\u001b[0m\n\u001b[0;32m---> 23\u001b[0;31m \u001b[0ms\u001b[0m \u001b[0;34m=\u001b[0m \u001b[0mShape\u001b[0m\u001b[0;34m(\u001b[0m\u001b[0;34m)\u001b[0m \u001b[0;31m# This will raise TypeError: Can't instantiate abstract class Shape with abstract methods area\u001b[0m\u001b[0;34m\u001b[0m\u001b[0;34m\u001b[0m\u001b[0m\n\u001b[0m\u001b[1;32m     24\u001b[0m \u001b[0mc\u001b[0m \u001b[0;34m=\u001b[0m \u001b[0mCircle\u001b[0m\u001b[0;34m(\u001b[0m\u001b[0;36m5\u001b[0m\u001b[0;34m)\u001b[0m\u001b[0;34m\u001b[0m\u001b[0;34m\u001b[0m\u001b[0m\n\u001b[1;32m     25\u001b[0m \u001b[0mprint\u001b[0m\u001b[0;34m(\u001b[0m\u001b[0;34m\"Area of circle:\"\u001b[0m\u001b[0;34m,\u001b[0m \u001b[0mc\u001b[0m\u001b[0;34m.\u001b[0m\u001b[0marea\u001b[0m\u001b[0;34m(\u001b[0m\u001b[0;34m)\u001b[0m\u001b[0;34m)\u001b[0m\u001b[0;34m\u001b[0m\u001b[0;34m\u001b[0m\u001b[0m\n",
            "\u001b[0;31mTypeError\u001b[0m: Can't instantiate abstract class Shape with abstract methods area"
          ]
        }
      ]
    },
    {
      "cell_type": "code",
      "source": [
        "#solution 4\n",
        "'''Data Abstraction is a programming concept that refers to hiding the underlying implementation details of data and exposing only the necessary information to the user.\n",
        "This helps in reducing the complexity of a system and making it easier to understand and use.\n",
        "\n",
        "Data Abstraction can be achieved in various ways in programming:\n",
        "\n",
        "\n",
        "Encapsulation: Encapsulation involves wrapping data and behavior within a single unit or object.\n",
        "               By encapsulating data, we can hide the implementation details and expose only the relevant information to the user.\n",
        "               In object-oriented programming, encapsulation is achieved by using classes and objects.\n",
        "\n",
        "Interfaces and Abstract Classes: Interfaces and abstract classes allow us to define a common set of methods that must be implemented by concrete classes.\n",
        "                                 This enforces a certain contract between the classes, making it easier to write code that can work with objects of different types, \n",
        "                                 without having to check the type of the object at runtime.\n",
        "\n",
        "Information Hiding: Information hiding is a technique where we keep the internal details of a data structure or algorithm hidden from the outside world.\n",
        "                    This helps in making the system more secure, as well as easier to maintain and evolve.\n",
        "\n",
        "Modules and Packages: Modules and packages are another way to achieve data abstraction in programming.\n",
        "                      By dividing a large system into smaller, manageable components, we can hide the implementation details of each component and provide a clean, well-defined interface for accessing their functionality'''\n",
        "\n",
        "class BankAccount:\n",
        "    def __init__(self, account_number, balance):\n",
        "        self.__account_number = account_number\n",
        "        self.__balance = balance\n",
        "\n",
        "    def get_balance(self):\n",
        "        return self.__balance\n",
        "\n",
        "    def deposit(self, amount):\n",
        "        self.__balance += amount\n",
        "\n",
        "    def withdraw(self, amount):\n",
        "        if self.__balance >= amount:\n",
        "            self.__balance -= amount\n",
        "            return True\n",
        "        else:\n",
        "            return False\n",
        "\n",
        "account = BankAccount(\"1234567890\", 1000)\n",
        "print(\"Current balance:\", account.get_balance())\n",
        "account.deposit(500)\n",
        "print(\"New balance:\", account.get_balance())\n"
      ],
      "metadata": {
        "colab": {
          "base_uri": "https://localhost:8080/"
        },
        "id": "zeCJtp4oUiXS",
        "outputId": "ded495e4-bc8a-4cec-ed55-6da1606a395e"
      },
      "execution_count": 4,
      "outputs": [
        {
          "output_type": "stream",
          "name": "stdout",
          "text": [
            "Current balance: 1000\n",
            "New balance: 1500\n"
          ]
        }
      ]
    },
    {
      "cell_type": "code",
      "source": [
        "#solution 5\n",
        "'''No, you cannot create an instance of an abstract class. An abstract class is a class that is meant to be used as a base class for one or more concrete (i.e., non-abstract) classes.\n",
        "It cannot be instantiated on its own, and its purpose is to provide a common interface that must be implemented by its concrete subclasses.\n",
        "\n",
        "An abstract class is defined using the abc module in Python and it can contain abstract methods, which are methods that do not have an implementation. \n",
        "These abstract methods must be overridden by concrete subclasses, otherwise a TypeError is raised.'''\n",
        "from abc import ABC, abstractmethod\n",
        "\n",
        "class Shape(ABC):\n",
        "    @abstractmethod\n",
        "    def area(self):\n",
        "        pass\n",
        "\n",
        "s = Shape() # This will raise TypeError: Can't instantiate abstract class Shape with abstract methods area"
      ],
      "metadata": {
        "colab": {
          "base_uri": "https://localhost:8080/",
          "height": 205
        },
        "id": "vgIQpAs0UlAC",
        "outputId": "ce25a909-748f-4066-e886-5aebeaa64968"
      },
      "execution_count": 5,
      "outputs": [
        {
          "output_type": "error",
          "ename": "TypeError",
          "evalue": "ignored",
          "traceback": [
            "\u001b[0;31m---------------------------------------------------------------------------\u001b[0m",
            "\u001b[0;31mTypeError\u001b[0m                                 Traceback (most recent call last)",
            "\u001b[0;32m<ipython-input-5-80637d2661ac>\u001b[0m in \u001b[0;36m<module>\u001b[0;34m\u001b[0m\n\u001b[1;32m     12\u001b[0m         \u001b[0;32mpass\u001b[0m\u001b[0;34m\u001b[0m\u001b[0;34m\u001b[0m\u001b[0m\n\u001b[1;32m     13\u001b[0m \u001b[0;34m\u001b[0m\u001b[0m\n\u001b[0;32m---> 14\u001b[0;31m \u001b[0ms\u001b[0m \u001b[0;34m=\u001b[0m \u001b[0mShape\u001b[0m\u001b[0;34m(\u001b[0m\u001b[0;34m)\u001b[0m \u001b[0;31m# This will raise TypeError: Can't instantiate abstract class Shape with abstract methods area\u001b[0m\u001b[0;34m\u001b[0m\u001b[0;34m\u001b[0m\u001b[0m\n\u001b[0m",
            "\u001b[0;31mTypeError\u001b[0m: Can't instantiate abstract class Shape with abstract methods area"
          ]
        }
      ]
    },
    {
      "cell_type": "code",
      "source": [],
      "metadata": {
        "id": "_Q-OXOLOUnV5"
      },
      "execution_count": null,
      "outputs": []
    }
  ]
}