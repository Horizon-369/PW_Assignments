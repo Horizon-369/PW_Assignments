{
 "cells": [
  {
   "cell_type": "markdown",
   "id": "0f39d2a1",
   "metadata": {},
   "source": [
    "# 7th Feb Assignment"
   ]
  },
  {
   "cell_type": "code",
   "execution_count": 1,
   "id": "a5d022d6",
   "metadata": {},
   "outputs": [],
   "source": [
    "#solution 1\n",
    "def check_password(password):\n",
    "    upper_case =0\n",
    "    lower_case=0\n",
    "    number=0\n",
    "    special_char=0\n",
    "    for char in password:\n",
    "        if char.isupper():\n",
    "            upper_case +=1\n",
    "        elif char.islower():\n",
    "            lower_case +=1\n",
    "        elif char.isdigit():\n",
    "            number +=1\n",
    "        elif char in '!@#$%^&*':\n",
    "            special_char +=1\n",
    "    if len(password) ==10 and upper_case>=2 and lower_case >=2 and number >=1 and special_char>=3:\n",
    "        return \"valid Password\"\n",
    "    else:\n",
    "        return \"Invalid Password\"\n"
   ]
  },
  {
   "cell_type": "code",
   "execution_count": 3,
   "id": "b173355c",
   "metadata": {},
   "outputs": [
    {
     "data": {
      "text/plain": [
       "'valid Password'"
      ]
     },
     "execution_count": 3,
     "metadata": {},
     "output_type": "execute_result"
    }
   ],
   "source": [
    "check_password(\"AkFd@#$27c\")"
   ]
  },
  {
   "cell_type": "code",
   "execution_count": 5,
   "id": "6d74fb91",
   "metadata": {},
   "outputs": [
    {
     "name": "stdout",
     "output_type": "stream",
     "text": [
      "['banana']\n"
     ]
    }
   ],
   "source": [
    "#solution 2\n",
    "#check if the string start with a particular letter\n",
    "string = [\"apple\", \"banana\", \"cherry\"]\n",
    "letter = \"b\"\n",
    "result = list(filter(lambda x: x.startswith(letter), string))\n",
    "print(result)"
   ]
  },
  {
   "cell_type": "code",
   "execution_count": 7,
   "id": "c187eb95",
   "metadata": {},
   "outputs": [
    {
     "name": "stdout",
     "output_type": "stream",
     "text": [
      "['243', '634', '756']\n"
     ]
    }
   ],
   "source": [
    "#check if the string is numeric\n",
    "string = [\"243\", \"634\", \"abc\", \"756\"]\n",
    "result = list(filter(lambda x: x.isnumeric(), string))\n",
    "print(result)"
   ]
  },
  {
   "cell_type": "code",
   "execution_count": 8,
   "id": "c975016c",
   "metadata": {},
   "outputs": [
    {
     "name": "stdout",
     "output_type": "stream",
     "text": [
      "[('orange', 80), ('mango', 99), ('grapes', 1000)]\n"
     ]
    }
   ],
   "source": [
    "#Sort a list of tuples having fruit names and their quantity:\n",
    "fruits =[(\"mango\",99),(\"orange\",80),(\"grapes\",1000)]\n",
    "result = sorted(fruits,key =lambda x:x[1])\n",
    "print(result)"
   ]
  },
  {
   "cell_type": "code",
   "execution_count": 9,
   "id": "bbb2fe2a",
   "metadata": {},
   "outputs": [
    {
     "name": "stdout",
     "output_type": "stream",
     "text": [
      "[1, 4, 9, 16, 25, 36, 49, 64, 81, 100]\n"
     ]
    }
   ],
   "source": [
    "#Find the squares of numbers from 1 to 10:\n",
    "numbers = [1, 2, 3, 4, 5, 6, 7, 8, 9, 10]\n",
    "result = [x**2 for x in numbers]\n",
    "print(result)"
   ]
  },
  {
   "cell_type": "code",
   "execution_count": 10,
   "id": "7dfde8a0",
   "metadata": {},
   "outputs": [
    {
     "name": "stdout",
     "output_type": "stream",
     "text": [
      "[1, 8, 27, 64, 125, 216, 343, 512, 729, 1000]\n"
     ]
    }
   ],
   "source": [
    "#Find the cube root of numbers from 1 to 10:\n",
    "numbers = [1, 2, 3, 4, 5, 6, 7, 8, 9, 10]\n",
    "result = [x**3 for x in numbers]\n",
    "print(result)"
   ]
  },
  {
   "cell_type": "code",
   "execution_count": 11,
   "id": "2b4e8d4b",
   "metadata": {},
   "outputs": [
    {
     "name": "stdout",
     "output_type": "stream",
     "text": [
      "True\n"
     ]
    }
   ],
   "source": [
    "#Check if a given number is even:\n",
    "number=4\n",
    "result = (lambda x:x%2==0)(number)\n",
    "print(result)"
   ]
  },
  {
   "cell_type": "code",
   "execution_count": 12,
   "id": "5ccf160d",
   "metadata": {},
   "outputs": [
    {
     "name": "stdout",
     "output_type": "stream",
     "text": [
      "[1, 3, 5, 7, 9]\n"
     ]
    }
   ],
   "source": [
    "#Filter odd numbers from the given list:\n",
    "numbers = [1, 2, 3, 4, 5, 6, 7, 8, 9, 10]\n",
    "result = list(filter(lambda x: x%2!=0, numbers))\n",
    "print(result)"
   ]
  },
  {
   "cell_type": "code",
   "execution_count": 17,
   "id": "91e2b7f7",
   "metadata": {},
   "outputs": [
    {
     "name": "stdout",
     "output_type": "stream",
     "text": [
      "[-5, -4, -3, -2, -1, 0, 1, 2, 3, 4, 5, 6]\n"
     ]
    }
   ],
   "source": [
    "#Sort a list of integers into positive and negative integers lists.\n",
    "numbers = sorted([1,2,3,4,5,6,-1,-2,-3,-4,-5,0])\n",
    "print(numbers)"
   ]
  },
  {
   "cell_type": "code",
   "execution_count": null,
   "id": "4daa7d48",
   "metadata": {},
   "outputs": [],
   "source": []
  }
 ],
 "metadata": {
  "kernelspec": {
   "display_name": "Python 3 (ipykernel)",
   "language": "python",
   "name": "python3"
  },
  "language_info": {
   "codemirror_mode": {
    "name": "ipython",
    "version": 3
   },
   "file_extension": ".py",
   "mimetype": "text/x-python",
   "name": "python",
   "nbconvert_exporter": "python",
   "pygments_lexer": "ipython3",
   "version": "3.9.12"
  }
 },
 "nbformat": 4,
 "nbformat_minor": 5
}
