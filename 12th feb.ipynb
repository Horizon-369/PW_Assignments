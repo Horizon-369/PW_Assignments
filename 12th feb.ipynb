{
 "cells": [
  {
   "cell_type": "code",
   "execution_count": 1,
   "id": "6d610ec0",
   "metadata": {},
   "outputs": [],
   "source": [
    "import logging\n",
    "\n",
    "logging.basicConfig(filename = 'mylogs.log', level = logging.INFO, format = '%(asctime)s %(message)s')"
   ]
  },
  {
   "cell_type": "markdown",
   "id": "1ca9ec30",
   "metadata": {},
   "source": [
    "# Question No. 1:\n",
    "What is Exception in Python? Write the difference between Exception and Syntax errors.\n",
    "\n",
    "# Answer:\n",
    "In Python, an exception is an event that occurs during the execution of a program that disrupts the normal flow of the program's instructions. Exceptions are used to handle runtime errors and unexpected situations that can arise in a program. They provide a way to catch and handle errors in a program in a structured and organized way.\n",
    "\n",
    "Syntax errors, on the other hand, are errors in the syntax of the code that prevent the code from being executed. They occur when the code is written in a way that does not conform to the rules of the Python language. Syntax errors are usually caught by the Python interpreter when the code is being parsed, before it is executed.\n",
    "\n",
    "The key difference between exceptions and syntax errors is that exceptions occur during the execution of a program, while syntax errors occur before the execution of a program, when the code is being parsed by the interpreter. Exceptions can be handled and recovered from, while syntax errors need to be fixed before the code can be executed.\n",
    "\n",
    "# Question No. 2:\n",
    "What happens when an exception is not handled? Explain with an example.\n",
    "\n",
    "# Answer:\n",
    "When an exception is not handled, the program will terminate and an error message will be displayed to the user. The error message will contain the type of exception that was raised, along with a stack trace that shows the sequence of function calls that led to the exception.\n",
    "\n",
    "The stack trace provides information about where in the code the exception was raised and can help in identifying the cause of the problem. However, if the exception is not handled, the program will not be able to continue executing and the user will not be able to recover from the error.\n",
    "\n",
    "In some cases, an unhandled exception can also lead to data corruption, memory leaks, and other problems that can negatively impact the stability and reliability of the program.\n",
    "\n",
    "## Example\n",
    "\n",
    "### Without Exception Handling:\n",
    "\n",
    "In the following example, I am asking the user to input digits, i am then storing the digits to a list. And then i'll find the maximum number in that list.\n",
    "\n",
    "Without exception handling, lets say the user inputs a string character along with the integers. The program will generate an error moving on because the rest of the code expects the input to be consisting of integers not characters."
   ]
  },
  {
   "cell_type": "code",
   "execution_count": 2,
   "id": "4a383a9e",
   "metadata": {},
   "outputs": [
    {
     "name": "stdout",
     "output_type": "stream",
     "text": [
      "Enter numbers: 432krr\n"
     ]
    }
   ],
   "source": [
    "logging.info(\"Asking user for values\")\n",
    "some_input = input('Enter numbers: ')\n",
    "#Entered Input: 432"
   ]
  },
  {
   "cell_type": "code",
   "execution_count": 3,
   "id": "0042efd0",
   "metadata": {},
   "outputs": [
    {
     "ename": "ValueError",
     "evalue": "invalid literal for int() with base 10: 'k'",
     "output_type": "error",
     "traceback": [
      "\u001b[1;31m---------------------------------------------------------------------------\u001b[0m",
      "\u001b[1;31mValueError\u001b[0m                                Traceback (most recent call last)",
      "Input \u001b[1;32mIn [3]\u001b[0m, in \u001b[0;36m<cell line: 5>\u001b[1;34m()\u001b[0m\n\u001b[0;32m      4\u001b[0m all_values \u001b[38;5;241m=\u001b[39m []\n\u001b[0;32m      5\u001b[0m \u001b[38;5;28;01mfor\u001b[39;00m each_elem \u001b[38;5;129;01min\u001b[39;00m some_input:\n\u001b[1;32m----> 6\u001b[0m     all_values\u001b[38;5;241m.\u001b[39mappend(\u001b[38;5;28;43mint\u001b[39;49m\u001b[43m(\u001b[49m\u001b[43meach_elem\u001b[49m\u001b[43m)\u001b[49m)\n\u001b[0;32m      7\u001b[0m all_values\n\u001b[0;32m      9\u001b[0m logging\u001b[38;5;241m.\u001b[39minfo(\u001b[38;5;124m\"\u001b[39m\u001b[38;5;124mFinding greatest value\u001b[39m\u001b[38;5;124m\"\u001b[39m)\n",
      "\u001b[1;31mValueError\u001b[0m: invalid literal for int() with base 10: 'k'"
     ]
    }
   ],
   "source": [
    "from functools import reduce\n",
    "\n",
    "some_input=list(some_input)\n",
    "all_values = []\n",
    "for each_elem in some_input:\n",
    "    all_values.append(int(each_elem))\n",
    "all_values\n",
    "\n",
    "logging.info(\"Finding greatest value\")\n",
    "maximum = reduce(lambda x,y: x if x>y else y, all_values)\n",
    "\n",
    "print(\"This is the input values list: \", some_input)\n",
    "print(\"This is the maximum value in the list: \",maximum)"
   ]
  },
  {
   "cell_type": "markdown",
   "id": "d4a838a5",
   "metadata": {},
   "source": [
    "### With Exeception Handling:\n",
    "We can set an exception that will raise when the program is generating an error. But instead of interrupting the flow of the program, the exception will just print out the error that was generated during the execution and move on to execute the rest of the program.### "
   ]
  },
  {
   "cell_type": "code",
   "execution_count": 4,
   "id": "bbffa22a",
   "metadata": {},
   "outputs": [
    {
     "name": "stdout",
     "output_type": "stream",
     "text": [
      "The following exception was raised during the execution:  invalid literal for int() with base 10: 'k'\n"
     ]
    }
   ],
   "source": [
    "try:\n",
    "    some_input=list(some_input)\n",
    "    all_values = []\n",
    "    for each_elem in some_input:\n",
    "        all_values.append(int(each_elem))\n",
    "    all_values\n",
    "    logging.info('Finding greatest value')\n",
    "    maximum = reduce(lambda x,y: x if x>y else y, all_values)\n",
    "\n",
    "    print(\"This is the input values list: \", some_input)\n",
    "    print(\"This is the maximum value in the list: \",maximum)\n",
    "\n",
    "except Exception as e:\n",
    "    logging.warning('Caught Exception, Handling..')\n",
    "    print('The following exception was raised during the execution: ', e)"
   ]
  },
  {
   "cell_type": "markdown",
   "id": "1a055f84",
   "metadata": {},
   "source": [
    "# Question No. 3:\n",
    "Which Python statements are used to catch and handle exceptions? Explain with an example.\n",
    "\n",
    "# Answer:\n",
    "In Python, the try and except statements are used to catch and handle exceptions. The basic structure of a try-except statement is as follows:"
   ]
  },
  {
   "cell_type": "code",
   "execution_count": 5,
   "id": "29f2df1c",
   "metadata": {},
   "outputs": [],
   "source": [
    "try:\n",
    "    pass\n",
    "    # code that might raise an exception\n",
    "except ExceptionType:\n",
    "    pass\n",
    "    # code to handle the exception"
   ]
  },
  {
   "cell_type": "markdown",
   "id": "0c7deebd",
   "metadata": {},
   "source": [
    "The code that might raise an exception is placed inside the try block, and the code to handle the exception is placed inside the except block. The ExceptionType in the except clause specifies the type of exception that is being caught. If an exception of that type is raised in the try block, the code in the except block will be executed.\n",
    "\n",
    "### Example\n",
    "The following code uses a try-except statement to catch a ZeroDivisionError exception:"
   ]
  },
  {
   "cell_type": "code",
   "execution_count": 6,
   "id": "d3e13ff3",
   "metadata": {},
   "outputs": [
    {
     "name": "stdout",
     "output_type": "stream",
     "text": [
      "Caught the following error during execution:  division by zero\n"
     ]
    }
   ],
   "source": [
    "try:\n",
    "    logging.info('Division of value')\n",
    "    x = 1 / 0\n",
    "except Exception as e:\n",
    "    logging.warning('Caught Exception, Handling..')\n",
    "    print(\"Caught the following error during execution: \",e)"
   ]
  },
  {
   "cell_type": "markdown",
   "id": "75256ea1",
   "metadata": {},
   "source": [
    "# Question No. 4:\n",
    "Explain the following with examples:\n",
    "\n",
    "1. try and else\n",
    "2. finally\n",
    "3. raise\n",
    "\n",
    "# Answer:\n",
    "## try and else:\n",
    "The try holds the code that might raise an exception/error.\n",
    "The else block of code is executed if no errors were raised"
   ]
  },
  {
   "cell_type": "code",
   "execution_count": 7,
   "id": "92d3996f",
   "metadata": {},
   "outputs": [
    {
     "name": "stdout",
     "output_type": "stream",
     "text": [
      "This executed because no errors were raise\n"
     ]
    }
   ],
   "source": [
    "try:\n",
    "    logging.info('Division of value')\n",
    "    x = 1 / 1\n",
    "except:\n",
    "    logging.warning('Caught Exception, Handling..')\n",
    "    print(\"This executed because errors were raised\")\n",
    "else:\n",
    "    print(\"This executed because no errors were raise\")"
   ]
  },
  {
   "cell_type": "markdown",
   "id": "18b89f91",
   "metadata": {},
   "source": [
    "# finally\n",
    "The finally block lets you execute code, regardless of the result of the try- and except blocks."
   ]
  },
  {
   "cell_type": "code",
   "execution_count": 8,
   "id": "1b9e48ab",
   "metadata": {},
   "outputs": [
    {
     "name": "stdout",
     "output_type": "stream",
     "text": [
      "This executed because errors were raised\n",
      "This executes regardless\n"
     ]
    }
   ],
   "source": [
    "try: \n",
    "    logging.info('Division of value')\n",
    "    x = 1/0\n",
    "except:\n",
    "    logging.warning('Caught Exception, Handling..')\n",
    "    print(\"This executed because errors were raised\")\n",
    "else:\n",
    "    print(\"This executed because no errors were raise\")\n",
    "finally:\n",
    "    print(\"This executes regardless\")"
   ]
  },
  {
   "cell_type": "markdown",
   "id": "3df9a9c2",
   "metadata": {},
   "source": [
    "## raise\n",
    "The raise keyword is used to raise an exception.\n",
    "You can define what kind of error to raise, and the text to print to the user."
   ]
  },
  {
   "cell_type": "code",
   "execution_count": 9,
   "id": "10a75440",
   "metadata": {},
   "outputs": [
    {
     "ename": "Exception",
     "evalue": "Sorry, no numbers below zero",
     "output_type": "error",
     "traceback": [
      "\u001b[1;31m---------------------------------------------------------------------------\u001b[0m",
      "\u001b[1;31mException\u001b[0m                                 Traceback (most recent call last)",
      "Input \u001b[1;32mIn [9]\u001b[0m, in \u001b[0;36m<cell line: 4>\u001b[1;34m()\u001b[0m\n\u001b[0;32m      4\u001b[0m \u001b[38;5;28;01mif\u001b[39;00m x \u001b[38;5;241m<\u001b[39m \u001b[38;5;241m0\u001b[39m:\n\u001b[0;32m      5\u001b[0m     logging\u001b[38;5;241m.\u001b[39merror(\u001b[38;5;124m'\u001b[39m\u001b[38;5;124mRaising exception\u001b[39m\u001b[38;5;124m'\u001b[39m)\n\u001b[1;32m----> 6\u001b[0m     \u001b[38;5;28;01mraise\u001b[39;00m \u001b[38;5;167;01mException\u001b[39;00m(\u001b[38;5;124m\"\u001b[39m\u001b[38;5;124mSorry, no numbers below zero\u001b[39m\u001b[38;5;124m\"\u001b[39m)\n",
      "\u001b[1;31mException\u001b[0m: Sorry, no numbers below zero"
     ]
    }
   ],
   "source": [
    "#raising exception\n",
    "x = -1\n",
    "\n",
    "if x < 0:\n",
    "    logging.error('Raising exception')\n",
    "    raise Exception(\"Sorry, no numbers below zero\")"
   ]
  },
  {
   "cell_type": "code",
   "execution_count": 10,
   "id": "83667504",
   "metadata": {},
   "outputs": [
    {
     "ename": "TypeError",
     "evalue": "Only integers are allowed",
     "output_type": "error",
     "traceback": [
      "\u001b[1;31m---------------------------------------------------------------------------\u001b[0m",
      "\u001b[1;31mTypeError\u001b[0m                                 Traceback (most recent call last)",
      "Input \u001b[1;32mIn [10]\u001b[0m, in \u001b[0;36m<cell line: 4>\u001b[1;34m()\u001b[0m\n\u001b[0;32m      4\u001b[0m \u001b[38;5;28;01mif\u001b[39;00m \u001b[38;5;129;01mnot\u001b[39;00m \u001b[38;5;28mtype\u001b[39m(x) \u001b[38;5;129;01mis\u001b[39;00m \u001b[38;5;28mint\u001b[39m:\n\u001b[0;32m      5\u001b[0m     logging\u001b[38;5;241m.\u001b[39merror(\u001b[38;5;124m'\u001b[39m\u001b[38;5;124mRaising error\u001b[39m\u001b[38;5;124m'\u001b[39m)\n\u001b[1;32m----> 6\u001b[0m     \u001b[38;5;28;01mraise\u001b[39;00m \u001b[38;5;167;01mTypeError\u001b[39;00m(\u001b[38;5;124m\"\u001b[39m\u001b[38;5;124mOnly integers are allowed\u001b[39m\u001b[38;5;124m\"\u001b[39m)\n",
      "\u001b[1;31mTypeError\u001b[0m: Only integers are allowed"
     ]
    }
   ],
   "source": [
    "#raising error\n",
    "x = \"hello\"\n",
    "\n",
    "if not type(x) is int:\n",
    "    logging.error('Raising error')\n",
    "    raise TypeError(\"Only integers are allowed\")"
   ]
  },
  {
   "cell_type": "markdown",
   "id": "cdb3841b",
   "metadata": {},
   "source": [
    "# Question No. 5:\n",
    "What are Custom Exceptions in Pyton? Why do we need custom exceptions? Explain with an example.\n",
    "\n",
    "# Answer:\n",
    "Custom Exceptions are user-defined exceptions that can be raised and caught in a program. Custom exceptions are created by creating a new class that inherits from the built-in Exception class.\n",
    "\n",
    "We need custom exceptions in a program for several reasons:\n",
    "\n",
    "1. Improved error handling: By defining custom exceptions, we can provide more meaningful error messages that are specific to our application, making it easier to diagnose and fix problems.\n",
    "2. Better organization: Custom exceptions allow us to categorize and group errors in our code into different types, making it easier to understand the structure of our error handling logic.\n",
    "3. Code reuse: Custom exceptions can be reused across multiple parts of our code, making it easier to maintain a consistent error handling strategy throughout our application.\n",
    "\n",
    "## Example:"
   ]
  },
  {
   "cell_type": "code",
   "execution_count": 11,
   "id": "b72aa1c7",
   "metadata": {},
   "outputs": [],
   "source": [
    "account_balance = 2000\n",
    "\n",
    "class InsufficientBalance(Exception):\n",
    "    def __init__ (self, error):\n",
    "        self.error=error\n",
    "        \n",
    "def withdraw_from_account(amount):\n",
    "    logging.info('Withdrawing amount..')\n",
    "    if amount > account_balance:\n",
    "        logging.error(\"Insufficient balance\")\n",
    "        raise InsufficientBalance('Insufficient balance in the account.')\n",
    "    else:\n",
    "        logging.info('Withdrawal Successful')\n",
    "        print(\"Amount Withdrawn Successfully\")"
   ]
  },
  {
   "cell_type": "code",
   "execution_count": 12,
   "id": "cd18bc26",
   "metadata": {},
   "outputs": [
    {
     "name": "stdout",
     "output_type": "stream",
     "text": [
      "Enter amount to withdraw: 3000\n",
      "Insufficient balance in the account.\n"
     ]
    }
   ],
   "source": [
    "try:\n",
    "    amount = int(input(\"Enter amount to withdraw: \"))\n",
    "    withdraw_from_account(amount)\n",
    "except InsufficientBalance as e:\n",
    "    print(e)\n",
    "    \n",
    "#amount entered: 3000"
   ]
  },
  {
   "cell_type": "markdown",
   "id": "fd68d8a4",
   "metadata": {},
   "source": [
    "In the above example, the InsufficientBalance custom exception is raised if the balance of the user's account is not sufficient to perform a transaction.\n",
    "\n",
    "# Question No. 6:\n",
    "Create a custom exception class. Use this class to handle an exception.\n",
    "\n",
    "# Answer:"
   ]
  },
  {
   "cell_type": "code",
   "execution_count": 13,
   "id": "ae853370",
   "metadata": {},
   "outputs": [],
   "source": [
    "class notvalidID(Exception):\n",
    "    def __init__(self,error):\n",
    "        self.error = error\n",
    "\n",
    "def checkifIDvalid(id):\n",
    "    logging.info('Checking ID Validation..')\n",
    "    if len(id)!=10:\n",
    "        logging.error(\"Invalid ID length\")\n",
    "        raise notvalidID('Invalid ID, ID length should be exactly 10 characters long')\n",
    "    else:\n",
    "        logging.info('Valid ID')\n",
    "        print(\"Valid ID\")"
   ]
  },
  {
   "cell_type": "code",
   "execution_count": 14,
   "id": "639ac899",
   "metadata": {},
   "outputs": [
    {
     "name": "stdout",
     "output_type": "stream",
     "text": [
      "Enter your ID: 4585221\n",
      "Invalid ID, ID length should be exactly 10 characters long\n"
     ]
    }
   ],
   "source": [
    "try:\n",
    "    id = input('Enter your ID: ')\n",
    "    checkifIDvalid(id)\n",
    "except notvalidID as e:\n",
    "    print(e)\n",
    "#Entered ID: 4585221"
   ]
  }
 ],
 "metadata": {
  "kernelspec": {
   "display_name": "Python 3 (ipykernel)",
   "language": "python",
   "name": "python3"
  },
  "language_info": {
   "codemirror_mode": {
    "name": "ipython",
    "version": 3
   },
   "file_extension": ".py",
   "mimetype": "text/x-python",
   "name": "python",
   "nbconvert_exporter": "python",
   "pygments_lexer": "ipython3",
   "version": "3.9.12"
  }
 },
 "nbformat": 4,
 "nbformat_minor": 5
}
