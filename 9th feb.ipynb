{
 "cells": [
  {
   "cell_type": "markdown",
   "id": "ec99fc15",
   "metadata": {},
   "source": [
    "# 9th Feb"
   ]
  },
  {
   "cell_type": "code",
   "execution_count": 1,
   "id": "1401e72a",
   "metadata": {},
   "outputs": [],
   "source": [
    "#solution 1\n",
    "class Vehicle:\n",
    "    \n",
    "    def __init__(self,name_of_vehicle,max_speed,average_of_vehicle):\n",
    "        self.name_of_vehicle = name_of_vehicle\n",
    "        self.max_speed = max_speed\n",
    "        self.average_of_vehicle = average_of_vehicle"
   ]
  },
  {
   "cell_type": "code",
   "execution_count": 2,
   "id": "874f91ba",
   "metadata": {},
   "outputs": [],
   "source": [
    "car = Vehicle(\"Thar\",200,50)"
   ]
  },
  {
   "cell_type": "code",
   "execution_count": 3,
   "id": "c4191833",
   "metadata": {},
   "outputs": [
    {
     "data": {
      "text/plain": [
       "50"
      ]
     },
     "execution_count": 3,
     "metadata": {},
     "output_type": "execute_result"
    }
   ],
   "source": [
    "car.average_of_vehicle"
   ]
  },
  {
   "cell_type": "code",
   "execution_count": 4,
   "id": "7a3b6348",
   "metadata": {},
   "outputs": [],
   "source": [
    "#solution 2\n",
    "class Vehicle:\n",
    "    def __init__(self, make, model, year, weight):\n",
    "        self.make = make\n",
    "        self.model = model\n",
    "        self.year = year\n",
    "        self.weight = weight\n",
    "\n",
    "    def get_make(self):\n",
    "        return self.make\n",
    "\n",
    "    def get_model(self):\n",
    "        return self.model\n",
    "\n",
    "    def get_year(self):\n",
    "        return self.year\n",
    "\n",
    "    def get_weight(self):\n",
    "        return self.weight\n",
    "\n",
    "class Car(Vehicle):\n",
    "    def __init__(self, make, model, year, weight, capacity):\n",
    "        super().__init__(make, model, year, weight)\n",
    "        self.capacity = capacity\n",
    "\n",
    "    def seating_capacity(self):\n",
    "        return f\"{self.make} {self.model} has a seating capacity of {self.capacity} people.\""
   ]
  },
  {
   "cell_type": "code",
   "execution_count": 5,
   "id": "342d0201",
   "metadata": {},
   "outputs": [
    {
     "name": "stdout",
     "output_type": "stream",
     "text": [
      "Toyoto camry has a seating capacity of 5 people.\n"
     ]
    }
   ],
   "source": [
    "car =Car(\"Toyoto\",\"camry\",2023,1500,5)\n",
    "print(car.seating_capacity())"
   ]
  },
  {
   "cell_type": "code",
   "execution_count": 6,
   "id": "874e1ff5",
   "metadata": {},
   "outputs": [],
   "source": [
    "#solution 3\n",
    "'''Multiple inheritance is a feature of some object-oriented programming languages that allows a class to inherit from multiple parent classes.\n",
    "In other words, a class can have multiple superclasses, and can inherit attributes and behaviors from all of them.'''\n",
    "\n",
    "#Example\n",
    "class Engine:\n",
    "    def start(self):\n",
    "        return \"Engine Started\"\n",
    "\n",
    "class Battery:\n",
    "    def charge(self):\n",
    "        return \"Battery Charged\"\n",
    "\n",
    "class ElectricCar(Engine,Battery):\n",
    "    def __init__(self,make,model,year):\n",
    "        self.make = make\n",
    "        self.model= model\n",
    "        self.year = year\n",
    "        \n",
    "    def drive(self):\n",
    "        return f\"{self.make} {self.model} ({self.year}) is running on electricity !\""
   ]
  },
  {
   "cell_type": "code",
   "execution_count": 7,
   "id": "e3b1b8a8",
   "metadata": {},
   "outputs": [],
   "source": [
    "electric_car = ElectricCar(\"Tesla\",\"Model S\",2022)"
   ]
  },
  {
   "cell_type": "code",
   "execution_count": 8,
   "id": "26b1ae79",
   "metadata": {},
   "outputs": [
    {
     "data": {
      "text/plain": [
       "'Engine Started'"
      ]
     },
     "execution_count": 8,
     "metadata": {},
     "output_type": "execute_result"
    }
   ],
   "source": [
    "electric_car.start()"
   ]
  },
  {
   "cell_type": "code",
   "execution_count": 9,
   "id": "b72806eb",
   "metadata": {},
   "outputs": [
    {
     "data": {
      "text/plain": [
       "'Model S'"
      ]
     },
     "execution_count": 9,
     "metadata": {},
     "output_type": "execute_result"
    }
   ],
   "source": [
    "electric_car.model"
   ]
  },
  {
   "cell_type": "code",
   "execution_count": 10,
   "id": "d5d4694c",
   "metadata": {},
   "outputs": [
    {
     "data": {
      "text/plain": [
       "'Tesla Model S (2022) is running on electricity !'"
      ]
     },
     "execution_count": 10,
     "metadata": {},
     "output_type": "execute_result"
    }
   ],
   "source": [
    "electric_car.drive()"
   ]
  },
  {
   "cell_type": "code",
   "execution_count": 11,
   "id": "d9519f34",
   "metadata": {},
   "outputs": [],
   "source": [
    "#solution 4\n",
    "\"\"\"Getters and setters are special methods in object-oriented programming that provide access to an object's attributes.\n",
    "\n",
    "Getters are used to retrieve the value of an object's attributes.\n",
    "They allow you to encapsulate the internal representation of an object and expose it to the outside world in a controlled manner.\n",
    "\n",
    "Setters are used to set the value of an object's attributes.\n",
    "They allow you to validate the values being assigned to an object's attributes and enforce any constraints or conditions that must be met.\"\"\"\n",
    "\n",
    "class Employee:\n",
    "    def __init__(self,name,age):\n",
    "        self.__name = name\n",
    "        self.__age = age\n",
    "        \n",
    "    #getter method\n",
    "    def get_name(self):\n",
    "        return self.__name\n",
    "    #setter method\n",
    "    def set_name(self,name):\n",
    "        if isinstance(name, str) and len(name) > 0:\n",
    "            self._name = name\n",
    "        else:\n",
    "            raise ValueError(\"Name must be a non-empty string\")\n",
    "       \n",
    "    def get_age(self):\n",
    "        return self.__age\n",
    "    \n",
    "    def set_age(self,age):\n",
    "        if isinstance(age, int) and 0 < age <= 120:\n",
    "            self._age = age\n",
    "        else:\n",
    "            raise ValueError(\"Age must be an integer between 1 and 120\")\n",
    "            \n",
    "    # Property decorator to expose the name attribute @property\n",
    "    def name(self):\n",
    "        return self.get_name()\n",
    "    def name(self, name):\n",
    "        self.set_name(name)\n",
    "    def age(self):\n",
    "        return self.get_age()\n",
    "    def age(self,age):\n",
    "        self.set_age(age)"
   ]
  },
  {
   "cell_type": "code",
   "execution_count": 12,
   "id": "7ca0d9db",
   "metadata": {},
   "outputs": [],
   "source": [
    "employee = Employee(\"kbc\",22)"
   ]
  },
  {
   "cell_type": "code",
   "execution_count": 13,
   "id": "5599cf1f",
   "metadata": {},
   "outputs": [],
   "source": [
    "employee.name = \"jame das\""
   ]
  },
  {
   "cell_type": "code",
   "execution_count": 14,
   "id": "c618a3c6",
   "metadata": {},
   "outputs": [
    {
     "data": {
      "text/plain": [
       "'jame das'"
      ]
     },
     "execution_count": 14,
     "metadata": {},
     "output_type": "execute_result"
    }
   ],
   "source": [
    "employee.name"
   ]
  },
  {
   "cell_type": "code",
   "execution_count": 15,
   "id": "e964bc92",
   "metadata": {},
   "outputs": [],
   "source": [
    "employee.age =45"
   ]
  },
  {
   "cell_type": "code",
   "execution_count": 16,
   "id": "d2cc6e3f",
   "metadata": {},
   "outputs": [
    {
     "data": {
      "text/plain": [
       "45"
      ]
     },
     "execution_count": 16,
     "metadata": {},
     "output_type": "execute_result"
    }
   ],
   "source": [
    "employee.age"
   ]
  },
  {
   "cell_type": "code",
   "execution_count": 17,
   "id": "eaa52133",
   "metadata": {},
   "outputs": [
    {
     "data": {
      "text/plain": [
       "'kbc'"
      ]
     },
     "execution_count": 17,
     "metadata": {},
     "output_type": "execute_result"
    }
   ],
   "source": [
    "employee.get_name()"
   ]
  },
  {
   "cell_type": "code",
   "execution_count": 18,
   "id": "3ba59334",
   "metadata": {},
   "outputs": [
    {
     "data": {
      "text/plain": [
       "22"
      ]
     },
     "execution_count": 18,
     "metadata": {},
     "output_type": "execute_result"
    }
   ],
   "source": [
    "employee.get_age()"
   ]
  },
  {
   "cell_type": "code",
   "execution_count": 19,
   "id": "b0fdcc4c",
   "metadata": {},
   "outputs": [],
   "source": [
    "#solution 5\n",
    "'''Method overriding is a feature of object-oriented programming that allows a subclass to provide a new implementation of a .method defined in its superclass. \n",
    "The new implementation in the subclass is said to override the implementation in the superclass.\n",
    "\n",
    "In Python, method overriding is achieved by defining a method with the same name in the subclass as in the superclass.\n",
    "When a method is called on an object, Python will use the implementation of the method in the class of the object, rather than in the superclass.'''\n",
    "\n",
    "#code \n",
    "class Vehicle:\n",
    "    def __init__(self,make,model,year):\n",
    "        self.make=make\n",
    "        self.model=model\n",
    "        self.year=year\n",
    "    \n",
    "    def description(self):\n",
    "        return f\"{self.make} {self.model} {self.year}\"\n",
    "    \n",
    "class Car(Vehicle):\n",
    "    def __init__(self,make,model,year,num_doors):\n",
    "        super().__init__(make,model,year)\n",
    "        self.num_doors= num_doors\n",
    "        \n",
    "    def description(self):\n",
    "        return f\"{super().description()} with {self.num_doors} doors\""
   ]
  },
  {
   "cell_type": "code",
   "execution_count": 20,
   "id": "c8473435",
   "metadata": {},
   "outputs": [],
   "source": [
    "car = Car(\"Toyota\",\"Parada\",2020,4)"
   ]
  },
  {
   "cell_type": "code",
   "execution_count": 21,
   "id": "817e45b3",
   "metadata": {},
   "outputs": [
    {
     "data": {
      "text/plain": [
       "'Toyota Parada 2020 with 4 doors'"
      ]
     },
     "execution_count": 21,
     "metadata": {},
     "output_type": "execute_result"
    }
   ],
   "source": [
    "car.description()"
   ]
  },
  {
   "cell_type": "code",
   "execution_count": null,
   "id": "a370bd05",
   "metadata": {},
   "outputs": [],
   "source": []
  }
 ],
 "metadata": {
  "kernelspec": {
   "display_name": "Python 3 (ipykernel)",
   "language": "python",
   "name": "python3"
  },
  "language_info": {
   "codemirror_mode": {
    "name": "ipython",
    "version": 3
   },
   "file_extension": ".py",
   "mimetype": "text/x-python",
   "name": "python",
   "nbconvert_exporter": "python",
   "pygments_lexer": "ipython3",
   "version": "3.9.12"
  }
 },
 "nbformat": 4,
 "nbformat_minor": 5
}
